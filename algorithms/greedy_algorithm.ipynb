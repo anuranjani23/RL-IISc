{
 "cells": [
  {
   "cell_type": "markdown",
   "id": "6f028bae",
   "metadata": {},
   "source": [
    "Algorithm 1 Greedy Algorithm\n",
    "1: Initialization: q= 0, q ∈ Rm, N = 0, N ∈ Rm\n",
    "2: for t= 1,2,...,n do\n",
    "3:      a←argmaxiqi(Ties are broken arbitrarily)\n",
    "4:      Take action a, and recieve a reward R\n",
    "5:      Na = Na + 1\n",
    "6:      qa = qa + 1/Na (R−qa)"
   ]
  },
  {
   "cell_type": "markdown",
   "id": "df58657c",
   "metadata": {},
   "source": [
    "Algorithm 2 Gradient Bandit Algorithm as Stochastic Gradient Ascent"
   ]
  }
 ],
 "metadata": {
  "kernelspec": {
   "display_name": "Python 3",
   "language": "python",
   "name": "python3"
  },
  "language_info": {
   "name": "python",
   "version": "3.12.6"
  }
 },
 "nbformat": 4,
 "nbformat_minor": 5
}
